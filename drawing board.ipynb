{
 "cells": [
  {
   "cell_type": "markdown",
   "metadata": {},
   "source": [
    "This is a place to test things and mess around."
   ]
  },
  {
   "cell_type": "code",
   "execution_count": 31,
   "metadata": {
    "collapsed": true
   },
   "outputs": [],
   "source": [
    "import numpy as np\n",
    "import pandas as pd\n",
    "import matplotlib.pyplot as plt\n",
    "import scipy.optimize as scop"
   ]
  },
  {
   "cell_type": "code",
   "execution_count": 122,
   "metadata": {
    "collapsed": true
   },
   "outputs": [],
   "source": [
    "trainset = pd.read_csv('train.csv', index_col = 'Id')\n",
    "testset = pd.read_csv('test.csv', index_col = 'Id')"
   ]
  },
  {
   "cell_type": "code",
   "execution_count": 33,
   "metadata": {
    "collapsed": false,
    "scrolled": true
   },
   "outputs": [
    {
     "data": {
      "text/html": [
       "<div>\n",
       "<table border=\"1\" class=\"dataframe\">\n",
       "  <thead>\n",
       "    <tr style=\"text-align: right;\">\n",
       "      <th></th>\n",
       "      <th>MSSubClass</th>\n",
       "      <th>MSZoning</th>\n",
       "      <th>LotFrontage</th>\n",
       "      <th>LotArea</th>\n",
       "      <th>Street</th>\n",
       "      <th>Alley</th>\n",
       "      <th>LotShape</th>\n",
       "      <th>LandContour</th>\n",
       "      <th>Utilities</th>\n",
       "      <th>LotConfig</th>\n",
       "      <th>...</th>\n",
       "      <th>PoolArea</th>\n",
       "      <th>PoolQC</th>\n",
       "      <th>Fence</th>\n",
       "      <th>MiscFeature</th>\n",
       "      <th>MiscVal</th>\n",
       "      <th>MoSold</th>\n",
       "      <th>YrSold</th>\n",
       "      <th>SaleType</th>\n",
       "      <th>SaleCondition</th>\n",
       "      <th>SalePrice</th>\n",
       "    </tr>\n",
       "    <tr>\n",
       "      <th>Id</th>\n",
       "      <th></th>\n",
       "      <th></th>\n",
       "      <th></th>\n",
       "      <th></th>\n",
       "      <th></th>\n",
       "      <th></th>\n",
       "      <th></th>\n",
       "      <th></th>\n",
       "      <th></th>\n",
       "      <th></th>\n",
       "      <th></th>\n",
       "      <th></th>\n",
       "      <th></th>\n",
       "      <th></th>\n",
       "      <th></th>\n",
       "      <th></th>\n",
       "      <th></th>\n",
       "      <th></th>\n",
       "      <th></th>\n",
       "      <th></th>\n",
       "      <th></th>\n",
       "    </tr>\n",
       "  </thead>\n",
       "  <tbody>\n",
       "    <tr>\n",
       "      <th>1</th>\n",
       "      <td>60</td>\n",
       "      <td>RL</td>\n",
       "      <td>65.0</td>\n",
       "      <td>8450</td>\n",
       "      <td>Pave</td>\n",
       "      <td>NaN</td>\n",
       "      <td>Reg</td>\n",
       "      <td>Lvl</td>\n",
       "      <td>AllPub</td>\n",
       "      <td>Inside</td>\n",
       "      <td>...</td>\n",
       "      <td>0</td>\n",
       "      <td>NaN</td>\n",
       "      <td>NaN</td>\n",
       "      <td>NaN</td>\n",
       "      <td>0</td>\n",
       "      <td>2</td>\n",
       "      <td>2008</td>\n",
       "      <td>WD</td>\n",
       "      <td>Normal</td>\n",
       "      <td>208500</td>\n",
       "    </tr>\n",
       "    <tr>\n",
       "      <th>2</th>\n",
       "      <td>20</td>\n",
       "      <td>RL</td>\n",
       "      <td>80.0</td>\n",
       "      <td>9600</td>\n",
       "      <td>Pave</td>\n",
       "      <td>NaN</td>\n",
       "      <td>Reg</td>\n",
       "      <td>Lvl</td>\n",
       "      <td>AllPub</td>\n",
       "      <td>FR2</td>\n",
       "      <td>...</td>\n",
       "      <td>0</td>\n",
       "      <td>NaN</td>\n",
       "      <td>NaN</td>\n",
       "      <td>NaN</td>\n",
       "      <td>0</td>\n",
       "      <td>5</td>\n",
       "      <td>2007</td>\n",
       "      <td>WD</td>\n",
       "      <td>Normal</td>\n",
       "      <td>181500</td>\n",
       "    </tr>\n",
       "    <tr>\n",
       "      <th>3</th>\n",
       "      <td>60</td>\n",
       "      <td>RL</td>\n",
       "      <td>68.0</td>\n",
       "      <td>11250</td>\n",
       "      <td>Pave</td>\n",
       "      <td>NaN</td>\n",
       "      <td>IR1</td>\n",
       "      <td>Lvl</td>\n",
       "      <td>AllPub</td>\n",
       "      <td>Inside</td>\n",
       "      <td>...</td>\n",
       "      <td>0</td>\n",
       "      <td>NaN</td>\n",
       "      <td>NaN</td>\n",
       "      <td>NaN</td>\n",
       "      <td>0</td>\n",
       "      <td>9</td>\n",
       "      <td>2008</td>\n",
       "      <td>WD</td>\n",
       "      <td>Normal</td>\n",
       "      <td>223500</td>\n",
       "    </tr>\n",
       "    <tr>\n",
       "      <th>4</th>\n",
       "      <td>70</td>\n",
       "      <td>RL</td>\n",
       "      <td>60.0</td>\n",
       "      <td>9550</td>\n",
       "      <td>Pave</td>\n",
       "      <td>NaN</td>\n",
       "      <td>IR1</td>\n",
       "      <td>Lvl</td>\n",
       "      <td>AllPub</td>\n",
       "      <td>Corner</td>\n",
       "      <td>...</td>\n",
       "      <td>0</td>\n",
       "      <td>NaN</td>\n",
       "      <td>NaN</td>\n",
       "      <td>NaN</td>\n",
       "      <td>0</td>\n",
       "      <td>2</td>\n",
       "      <td>2006</td>\n",
       "      <td>WD</td>\n",
       "      <td>Abnorml</td>\n",
       "      <td>140000</td>\n",
       "    </tr>\n",
       "    <tr>\n",
       "      <th>5</th>\n",
       "      <td>60</td>\n",
       "      <td>RL</td>\n",
       "      <td>84.0</td>\n",
       "      <td>14260</td>\n",
       "      <td>Pave</td>\n",
       "      <td>NaN</td>\n",
       "      <td>IR1</td>\n",
       "      <td>Lvl</td>\n",
       "      <td>AllPub</td>\n",
       "      <td>FR2</td>\n",
       "      <td>...</td>\n",
       "      <td>0</td>\n",
       "      <td>NaN</td>\n",
       "      <td>NaN</td>\n",
       "      <td>NaN</td>\n",
       "      <td>0</td>\n",
       "      <td>12</td>\n",
       "      <td>2008</td>\n",
       "      <td>WD</td>\n",
       "      <td>Normal</td>\n",
       "      <td>250000</td>\n",
       "    </tr>\n",
       "  </tbody>\n",
       "</table>\n",
       "<p>5 rows × 80 columns</p>\n",
       "</div>"
      ],
      "text/plain": [
       "    MSSubClass MSZoning  LotFrontage  LotArea Street Alley LotShape  \\\n",
       "Id                                                                    \n",
       "1           60       RL         65.0     8450   Pave   NaN      Reg   \n",
       "2           20       RL         80.0     9600   Pave   NaN      Reg   \n",
       "3           60       RL         68.0    11250   Pave   NaN      IR1   \n",
       "4           70       RL         60.0     9550   Pave   NaN      IR1   \n",
       "5           60       RL         84.0    14260   Pave   NaN      IR1   \n",
       "\n",
       "   LandContour Utilities LotConfig    ...     PoolArea PoolQC Fence  \\\n",
       "Id                                    ...                             \n",
       "1          Lvl    AllPub    Inside    ...            0    NaN   NaN   \n",
       "2          Lvl    AllPub       FR2    ...            0    NaN   NaN   \n",
       "3          Lvl    AllPub    Inside    ...            0    NaN   NaN   \n",
       "4          Lvl    AllPub    Corner    ...            0    NaN   NaN   \n",
       "5          Lvl    AllPub       FR2    ...            0    NaN   NaN   \n",
       "\n",
       "   MiscFeature MiscVal MoSold  YrSold  SaleType  SaleCondition  SalePrice  \n",
       "Id                                                                         \n",
       "1          NaN       0      2    2008        WD         Normal     208500  \n",
       "2          NaN       0      5    2007        WD         Normal     181500  \n",
       "3          NaN       0      9    2008        WD         Normal     223500  \n",
       "4          NaN       0      2    2006        WD        Abnorml     140000  \n",
       "5          NaN       0     12    2008        WD         Normal     250000  \n",
       "\n",
       "[5 rows x 80 columns]"
      ]
     },
     "execution_count": 33,
     "metadata": {},
     "output_type": "execute_result"
    }
   ],
   "source": [
    "trainset.head()"
   ]
  },
  {
   "cell_type": "code",
   "execution_count": 34,
   "metadata": {
    "collapsed": false
   },
   "outputs": [],
   "source": [
    "nullratio = trainset.isnull().sum() / trainset.shape[0]"
   ]
  },
  {
   "cell_type": "code",
   "execution_count": 35,
   "metadata": {
    "collapsed": false
   },
   "outputs": [
    {
     "data": {
      "text/plain": [
       "LotFrontage     0.177397\n",
       "Alley           0.937671\n",
       "MasVnrType      0.005479\n",
       "MasVnrArea      0.005479\n",
       "BsmtQual        0.025342\n",
       "BsmtCond        0.025342\n",
       "BsmtExposure    0.026027\n",
       "BsmtFinType1    0.025342\n",
       "BsmtFinType2    0.026027\n",
       "Electrical      0.000685\n",
       "FireplaceQu     0.472603\n",
       "GarageType      0.055479\n",
       "GarageYrBlt     0.055479\n",
       "GarageFinish    0.055479\n",
       "GarageQual      0.055479\n",
       "GarageCond      0.055479\n",
       "PoolQC          0.995205\n",
       "Fence           0.807534\n",
       "MiscFeature     0.963014\n",
       "dtype: float64"
      ]
     },
     "execution_count": 35,
     "metadata": {},
     "output_type": "execute_result"
    }
   ],
   "source": [
    "nullratio[nullratio.values > 0]"
   ]
  },
  {
   "cell_type": "markdown",
   "metadata": {},
   "source": [
    "Lots of missing records. Some features like Alley has a lot of NaN that indicates no alley access so the NaNs are not missing information. NaNs like those will be filled with appropriate values in digitizing the features. There are a few features with real missing information, like LotFrontage or Eletrical. Those NaN needs to be filled or those features can't be used. \n",
    "\n",
    "A lot of features consists of discrete data type, like MSSubClass, where the values may needs to be remapped to improve the model. Those features needs to be analyzed and possibly mapped into different features to be used in the model.\n",
    "\n",
    "Below I examine each feature and process them to be ready for modeling."
   ]
  },
  {
   "cell_type": "code",
   "execution_count": 98,
   "metadata": {
    "collapsed": false
   },
   "outputs": [
    {
     "data": {
      "text/html": [
       "<div>\n",
       "<table border=\"1\" class=\"dataframe\">\n",
       "  <thead>\n",
       "    <tr style=\"text-align: right;\">\n",
       "      <th></th>\n",
       "      <th>std</th>\n",
       "      <th>count</th>\n",
       "      <th>mean</th>\n",
       "    </tr>\n",
       "    <tr>\n",
       "      <th>MSSubClass</th>\n",
       "      <th></th>\n",
       "      <th></th>\n",
       "      <th></th>\n",
       "    </tr>\n",
       "  </thead>\n",
       "  <tbody>\n",
       "    <tr>\n",
       "      <th>30</th>\n",
       "      <td>24857.110069</td>\n",
       "      <td>69</td>\n",
       "      <td>95829</td>\n",
       "    </tr>\n",
       "    <tr>\n",
       "      <th>180</th>\n",
       "      <td>29474.282570</td>\n",
       "      <td>10</td>\n",
       "      <td>102300</td>\n",
       "    </tr>\n",
       "    <tr>\n",
       "      <th>45</th>\n",
       "      <td>20231.723876</td>\n",
       "      <td>12</td>\n",
       "      <td>108591</td>\n",
       "    </tr>\n",
       "    <tr>\n",
       "      <th>190</th>\n",
       "      <td>35439.097661</td>\n",
       "      <td>30</td>\n",
       "      <td>129613</td>\n",
       "    </tr>\n",
       "    <tr>\n",
       "      <th>90</th>\n",
       "      <td>27833.249182</td>\n",
       "      <td>52</td>\n",
       "      <td>133541</td>\n",
       "    </tr>\n",
       "    <tr>\n",
       "      <th>160</th>\n",
       "      <td>34587.542266</td>\n",
       "      <td>63</td>\n",
       "      <td>138647</td>\n",
       "    </tr>\n",
       "    <tr>\n",
       "      <th>50</th>\n",
       "      <td>54851.983702</td>\n",
       "      <td>144</td>\n",
       "      <td>143302</td>\n",
       "    </tr>\n",
       "    <tr>\n",
       "      <th>85</th>\n",
       "      <td>19629.942206</td>\n",
       "      <td>20</td>\n",
       "      <td>147810</td>\n",
       "    </tr>\n",
       "    <tr>\n",
       "      <th>40</th>\n",
       "      <td>75747.799744</td>\n",
       "      <td>4</td>\n",
       "      <td>156125</td>\n",
       "    </tr>\n",
       "    <tr>\n",
       "      <th>70</th>\n",
       "      <td>58206.545757</td>\n",
       "      <td>60</td>\n",
       "      <td>166772</td>\n",
       "    </tr>\n",
       "    <tr>\n",
       "      <th>80</th>\n",
       "      <td>38197.808759</td>\n",
       "      <td>58</td>\n",
       "      <td>169736</td>\n",
       "    </tr>\n",
       "    <tr>\n",
       "      <th>20</th>\n",
       "      <td>78782.189961</td>\n",
       "      <td>536</td>\n",
       "      <td>185224</td>\n",
       "    </tr>\n",
       "    <tr>\n",
       "      <th>75</th>\n",
       "      <td>100556.762572</td>\n",
       "      <td>16</td>\n",
       "      <td>192437</td>\n",
       "    </tr>\n",
       "    <tr>\n",
       "      <th>120</th>\n",
       "      <td>58221.490903</td>\n",
       "      <td>87</td>\n",
       "      <td>200779</td>\n",
       "    </tr>\n",
       "    <tr>\n",
       "      <th>60</th>\n",
       "      <td>86579.909962</td>\n",
       "      <td>299</td>\n",
       "      <td>239948</td>\n",
       "    </tr>\n",
       "  </tbody>\n",
       "</table>\n",
       "</div>"
      ],
      "text/plain": [
       "                      std  count    mean\n",
       "MSSubClass                              \n",
       "30           24857.110069     69   95829\n",
       "180          29474.282570     10  102300\n",
       "45           20231.723876     12  108591\n",
       "190          35439.097661     30  129613\n",
       "90           27833.249182     52  133541\n",
       "160          34587.542266     63  138647\n",
       "50           54851.983702    144  143302\n",
       "85           19629.942206     20  147810\n",
       "40           75747.799744      4  156125\n",
       "70           58206.545757     60  166772\n",
       "80           38197.808759     58  169736\n",
       "20           78782.189961    536  185224\n",
       "75          100556.762572     16  192437\n",
       "120          58221.490903     87  200779\n",
       "60           86579.909962    299  239948"
      ]
     },
     "execution_count": 98,
     "metadata": {},
     "output_type": "execute_result"
    }
   ],
   "source": [
    "aggvals = {'mean', 'std', 'count'}\n",
    "a = trainset.groupby('MSSubClass').SalePrice.agg(aggvals).sort_values(by = 'mean')\n",
    "a"
   ]
  },
  {
   "cell_type": "code",
   "execution_count": 37,
   "metadata": {
    "collapsed": false
   },
   "outputs": [
    {
     "data": {
      "image/png": "[encoded data removed]",
      "text/plain": [
       "<matplotlib.figure.Figure at 0x22d6af60>"
      ]
     },
     "metadata": {},
     "output_type": "display_data"
    }
   ],
   "source": [
    "plt.errorbar(a.index, a['mean'], a['std'], linestyle = 'None', marker = '^')\n",
    "plt.show()"
   ]
  },
  {
   "cell_type": "markdown",
   "metadata": {},
   "source": [
    "Certain dwelling types have a very well defined narrow band while a few, like class 75: 2-1/2 story all ages have a relatively wide range of prices."
   ]
  },
  {
   "cell_type": "code",
   "execution_count": 38,
   "metadata": {
    "collapsed": false
   },
   "outputs": [
    {
     "data": {
      "text/html": [
       "<div>\n",
       "<table border=\"1\" class=\"dataframe\">\n",
       "  <thead>\n",
       "    <tr style=\"text-align: right;\">\n",
       "      <th></th>\n",
       "      <th>std</th>\n",
       "      <th>count</th>\n",
       "      <th>mean</th>\n",
       "    </tr>\n",
       "    <tr>\n",
       "      <th>MSZoning</th>\n",
       "      <th></th>\n",
       "      <th></th>\n",
       "      <th></th>\n",
       "    </tr>\n",
       "  </thead>\n",
       "  <tbody>\n",
       "    <tr>\n",
       "      <th>C (all)</th>\n",
       "      <td>33791.092021</td>\n",
       "      <td>10</td>\n",
       "      <td>74528</td>\n",
       "    </tr>\n",
       "    <tr>\n",
       "      <th>FV</th>\n",
       "      <td>52369.662067</td>\n",
       "      <td>65</td>\n",
       "      <td>214014</td>\n",
       "    </tr>\n",
       "    <tr>\n",
       "      <th>RH</th>\n",
       "      <td>35714.118427</td>\n",
       "      <td>16</td>\n",
       "      <td>131558</td>\n",
       "    </tr>\n",
       "    <tr>\n",
       "      <th>RL</th>\n",
       "      <td>80766.341319</td>\n",
       "      <td>1151</td>\n",
       "      <td>191004</td>\n",
       "    </tr>\n",
       "    <tr>\n",
       "      <th>RM</th>\n",
       "      <td>48521.689830</td>\n",
       "      <td>218</td>\n",
       "      <td>126316</td>\n",
       "    </tr>\n",
       "  </tbody>\n",
       "</table>\n",
       "</div>"
      ],
      "text/plain": [
       "                   std  count    mean\n",
       "MSZoning                             \n",
       "C (all)   33791.092021     10   74528\n",
       "FV        52369.662067     65  214014\n",
       "RH        35714.118427     16  131558\n",
       "RL        80766.341319   1151  191004\n",
       "RM        48521.689830    218  126316"
      ]
     },
     "execution_count": 38,
     "metadata": {},
     "output_type": "execute_result"
    }
   ],
   "source": [
    "a = trainset.groupby('MSZoning').SalePrice.agg(aggvals)\n",
    "a"
   ]
  },
  {
   "cell_type": "code",
   "execution_count": 39,
   "metadata": {
    "collapsed": false
   },
   "outputs": [
    {
     "data": {
      "image/png": "[encoded data removed]",
      "text/plain": [
       "<matplotlib.figure.Figure at 0x22916fd0>"
      ]
     },
     "metadata": {},
     "output_type": "display_data"
    }
   ],
   "source": [
    "plt.errorbar(range(0, a.shape[0]), a['mean'], a['std'], linestyle = 'None', marker = '^')\n",
    "plt.show()"
   ]
  },
  {
   "cell_type": "markdown",
   "metadata": {},
   "source": [
    "Most of the records are in RL: residential low density. The few that are in other categories like Commercial have a relatively narrow range of distribution. It suggests that the feature on its own is not going to be useful in separating most of the houses apart. However, it can be useful when combined with other features."
   ]
  },
  {
   "cell_type": "code",
   "execution_count": 49,
   "metadata": {
    "collapsed": false
   },
   "outputs": [],
   "source": [
    "uzone = trainset.MSZoning.unique()\n",
    "uzonemap = dict(zip(uzone, range(0, uzone.size)))"
   ]
  },
  {
   "cell_type": "code",
   "execution_count": 43,
   "metadata": {
    "collapsed": false,
    "scrolled": true
   },
   "outputs": [
    {
     "data": {
      "image/png": "[encoded data removed]",
      "text/plain": [
       "<matplotlib.figure.Figure at 0x226df940>"
      ]
     },
     "metadata": {},
     "output_type": "display_data"
    }
   ],
   "source": [
    "plt.plot(trainset.LotFrontage, trainset.SalePrice, '.b')\n",
    "plt.xlabel('LotFrontage (ft)')\n",
    "plt.ylabel('Sale Price ($)')\n",
    "plt.show()"
   ]
  },
  {
   "cell_type": "code",
   "execution_count": 42,
   "metadata": {
    "collapsed": false
   },
   "outputs": [
    {
     "data": {
      "text/html": [
       "<div>\n",
       "<table border=\"1\" class=\"dataframe\">\n",
       "  <thead>\n",
       "    <tr style=\"text-align: right;\">\n",
       "      <th></th>\n",
       "      <th>LotFrontage</th>\n",
       "      <th>SalePrice</th>\n",
       "    </tr>\n",
       "  </thead>\n",
       "  <tbody>\n",
       "    <tr>\n",
       "      <th>LotFrontage</th>\n",
       "      <td>1.000000</td>\n",
       "      <td>0.351799</td>\n",
       "    </tr>\n",
       "    <tr>\n",
       "      <th>SalePrice</th>\n",
       "      <td>0.351799</td>\n",
       "      <td>1.000000</td>\n",
       "    </tr>\n",
       "  </tbody>\n",
       "</table>\n",
       "</div>"
      ],
      "text/plain": [
       "             LotFrontage  SalePrice\n",
       "LotFrontage     1.000000   0.351799\n",
       "SalePrice       0.351799   1.000000"
      ]
     },
     "execution_count": 42,
     "metadata": {},
     "output_type": "execute_result"
    }
   ],
   "source": [
    "trainset[['LotFrontage', 'SalePrice']].corr()"
   ]
  },
  {
   "cell_type": "markdown",
   "metadata": {},
   "source": [
    "The linear feet of street connected to property has a decent correlation coefficient with the sales price. About 18% of the data in the training set is missing this information. The plot above suggests there might be at least two sub trends, one with sale price increasing much faster with LotFrontage and the other with a gentler slope between the two. This observation suggests that combining features could improve correlation to sales price. In this case, if we can find a feature that normalized the two trends and collapses them into one the correlation between the normalized LotFrontage and sales price can be greatly improved. So far it seems the subclass or the zoning are not the normalizing factor."
   ]
  },
  {
   "cell_type": "code",
   "execution_count": 51,
   "metadata": {
    "collapsed": false
   },
   "outputs": [
    {
     "data": {
      "image/png": "[encoded data removed]",
      "text/plain": [
       "<matplotlib.figure.Figure at 0x10a9b240>"
      ]
     },
     "metadata": {},
     "output_type": "display_data"
    }
   ],
   "source": [
    "plt.scatter(trainset.LotFrontage, trainset.SalePrice, c = trainset.MSZoning.map(uzonemap))\n",
    "plt.xlabel('LotFrontage (ft)')\n",
    "plt.ylabel('Sale Price ($)')\n",
    "plt.show()"
   ]
  },
  {
   "cell_type": "code",
   "execution_count": 94,
   "metadata": {
    "collapsed": false,
    "scrolled": true
   },
   "outputs": [
    {
     "data": {
      "image/png": "[encoded data removed]",
      "text/plain": [
       "<matplotlib.figure.Figure at 0x10840f28>"
      ]
     },
     "metadata": {},
     "output_type": "display_data"
    }
   ],
   "source": [
    "fig = plt.figure\n",
    "ax = plt.gca()\n",
    "ax.scatter(trainset.LotArea, trainset.SalePrice, c = trainset.MSSubClass)\n",
    "ax.set_xscale('log')\n",
    "plt.xlabel('Lot size (ft^2)')\n",
    "plt.ylabel('Sale Price ($)')\n",
    "plt.grid()\n",
    "plt.show()"
   ]
  },
  {
   "cell_type": "code",
   "execution_count": 129,
   "metadata": {
    "collapsed": false
   },
   "outputs": [
    {
     "data": {
      "text/html": [
       "<div>\n",
       "<table border=\"1\" class=\"dataframe\">\n",
       "  <thead>\n",
       "    <tr style=\"text-align: right;\">\n",
       "      <th></th>\n",
       "      <th>LotArea</th>\n",
       "      <th>SalePrice</th>\n",
       "    </tr>\n",
       "  </thead>\n",
       "  <tbody>\n",
       "    <tr>\n",
       "      <th>LotArea</th>\n",
       "      <td>1.000000</td>\n",
       "      <td>0.263843</td>\n",
       "    </tr>\n",
       "    <tr>\n",
       "      <th>SalePrice</th>\n",
       "      <td>0.263843</td>\n",
       "      <td>1.000000</td>\n",
       "    </tr>\n",
       "  </tbody>\n",
       "</table>\n",
       "</div>"
      ],
      "text/plain": [
       "            LotArea  SalePrice\n",
       "LotArea    1.000000   0.263843\n",
       "SalePrice  0.263843   1.000000"
      ]
     },
     "execution_count": 129,
     "metadata": {},
     "output_type": "execute_result"
    }
   ],
   "source": [
    "trainset[['LotArea', 'SalePrice']].corr()"
   ]
  },
  {
   "cell_type": "markdown",
   "metadata": {},
   "source": [
    "The lot size has a wide range in the database, therefore it is more appropriate to use its logarithmic value to correlate to the sales price. The figure above shows that depending on the type of dwelling (MSSubClass), the price has different trends with $log(LotSize)$.\n",
    "\n",
    "With the few features we examined it seems the discrete features can be used to classifity different trends the continuous features has with sales price."
   ]
  },
  {
   "cell_type": "code",
   "execution_count": 70,
   "metadata": {
    "collapsed": false
   },
   "outputs": [
    {
     "data": {
      "text/html": [
       "<div>\n",
       "<table border=\"1\" class=\"dataframe\">\n",
       "  <thead>\n",
       "    <tr style=\"text-align: right;\">\n",
       "      <th></th>\n",
       "      <th>std</th>\n",
       "      <th>count</th>\n",
       "      <th>mean</th>\n",
       "    </tr>\n",
       "    <tr>\n",
       "      <th>Street</th>\n",
       "      <th></th>\n",
       "      <th></th>\n",
       "      <th></th>\n",
       "    </tr>\n",
       "  </thead>\n",
       "  <tbody>\n",
       "    <tr>\n",
       "      <th>Grvl</th>\n",
       "      <td>65446.253988</td>\n",
       "      <td>6</td>\n",
       "      <td>130190</td>\n",
       "    </tr>\n",
       "    <tr>\n",
       "      <th>Pave</th>\n",
       "      <td>79446.597315</td>\n",
       "      <td>1454</td>\n",
       "      <td>181130</td>\n",
       "    </tr>\n",
       "  </tbody>\n",
       "</table>\n",
       "</div>"
      ],
      "text/plain": [
       "                 std  count    mean\n",
       "Street                             \n",
       "Grvl    65446.253988      6  130190\n",
       "Pave    79446.597315   1454  181130"
      ]
     },
     "execution_count": 70,
     "metadata": {},
     "output_type": "execute_result"
    }
   ],
   "source": [
    "trainset.groupby('Street').SalePrice.agg(aggvals)"
   ]
  },
  {
   "cell_type": "markdown",
   "metadata": {},
   "source": [
    "Paved roas access seems to boost the housing price compared to gravel access. However, the sample size for the gravel access houses is very small (6). It is entirely possible the difference is biased and not appropriate to be generalized. The table belows shows those 6 records. It seems though they do represent the average house well up to the LotArea feature. We will keep this feature in mind but for now it is likely we are going to leave it out."
   ]
  },
  {
   "cell_type": "code",
   "execution_count": 72,
   "metadata": {
    "collapsed": false
   },
   "outputs": [
    {
     "data": {
      "text/html": [
       "<div>\n",
       "<table border=\"1\" class=\"dataframe\">\n",
       "  <thead>\n",
       "    <tr style=\"text-align: right;\">\n",
       "      <th></th>\n",
       "      <th>MSSubClass</th>\n",
       "      <th>MSZoning</th>\n",
       "      <th>LotFrontage</th>\n",
       "      <th>LotArea</th>\n",
       "      <th>Street</th>\n",
       "      <th>Alley</th>\n",
       "      <th>LotShape</th>\n",
       "      <th>LandContour</th>\n",
       "      <th>Utilities</th>\n",
       "      <th>LotConfig</th>\n",
       "      <th>...</th>\n",
       "      <th>PoolArea</th>\n",
       "      <th>PoolQC</th>\n",
       "      <th>Fence</th>\n",
       "      <th>MiscFeature</th>\n",
       "      <th>MiscVal</th>\n",
       "      <th>MoSold</th>\n",
       "      <th>YrSold</th>\n",
       "      <th>SaleType</th>\n",
       "      <th>SaleCondition</th>\n",
       "      <th>SalePrice</th>\n",
       "    </tr>\n",
       "    <tr>\n",
       "      <th>Id</th>\n",
       "      <th></th>\n",
       "      <th></th>\n",
       "      <th></th>\n",
       "      <th></th>\n",
       "      <th></th>\n",
       "      <th></th>\n",
       "      <th></th>\n",
       "      <th></th>\n",
       "      <th></th>\n",
       "      <th></th>\n",
       "      <th></th>\n",
       "      <th></th>\n",
       "      <th></th>\n",
       "      <th></th>\n",
       "      <th></th>\n",
       "      <th></th>\n",
       "      <th></th>\n",
       "      <th></th>\n",
       "      <th></th>\n",
       "      <th></th>\n",
       "      <th></th>\n",
       "    </tr>\n",
       "  </thead>\n",
       "  <tbody>\n",
       "    <tr>\n",
       "      <th>53</th>\n",
       "      <td>90</td>\n",
       "      <td>RM</td>\n",
       "      <td>110.0</td>\n",
       "      <td>8472</td>\n",
       "      <td>Grvl</td>\n",
       "      <td>NaN</td>\n",
       "      <td>IR2</td>\n",
       "      <td>Bnk</td>\n",
       "      <td>AllPub</td>\n",
       "      <td>Corner</td>\n",
       "      <td>...</td>\n",
       "      <td>0</td>\n",
       "      <td>NaN</td>\n",
       "      <td>NaN</td>\n",
       "      <td>NaN</td>\n",
       "      <td>0</td>\n",
       "      <td>5</td>\n",
       "      <td>2010</td>\n",
       "      <td>WD</td>\n",
       "      <td>Normal</td>\n",
       "      <td>110000</td>\n",
       "    </tr>\n",
       "    <tr>\n",
       "      <th>336</th>\n",
       "      <td>190</td>\n",
       "      <td>RL</td>\n",
       "      <td>NaN</td>\n",
       "      <td>164660</td>\n",
       "      <td>Grvl</td>\n",
       "      <td>NaN</td>\n",
       "      <td>IR1</td>\n",
       "      <td>HLS</td>\n",
       "      <td>AllPub</td>\n",
       "      <td>Corner</td>\n",
       "      <td>...</td>\n",
       "      <td>0</td>\n",
       "      <td>NaN</td>\n",
       "      <td>NaN</td>\n",
       "      <td>Shed</td>\n",
       "      <td>700</td>\n",
       "      <td>8</td>\n",
       "      <td>2008</td>\n",
       "      <td>WD</td>\n",
       "      <td>Normal</td>\n",
       "      <td>228950</td>\n",
       "    </tr>\n",
       "    <tr>\n",
       "      <th>583</th>\n",
       "      <td>90</td>\n",
       "      <td>RL</td>\n",
       "      <td>81.0</td>\n",
       "      <td>11841</td>\n",
       "      <td>Grvl</td>\n",
       "      <td>NaN</td>\n",
       "      <td>Reg</td>\n",
       "      <td>Lvl</td>\n",
       "      <td>AllPub</td>\n",
       "      <td>Inside</td>\n",
       "      <td>...</td>\n",
       "      <td>0</td>\n",
       "      <td>NaN</td>\n",
       "      <td>NaN</td>\n",
       "      <td>NaN</td>\n",
       "      <td>0</td>\n",
       "      <td>5</td>\n",
       "      <td>2007</td>\n",
       "      <td>WD</td>\n",
       "      <td>Normal</td>\n",
       "      <td>118500</td>\n",
       "    </tr>\n",
       "    <tr>\n",
       "      <th>813</th>\n",
       "      <td>20</td>\n",
       "      <td>C (all)</td>\n",
       "      <td>66.0</td>\n",
       "      <td>8712</td>\n",
       "      <td>Grvl</td>\n",
       "      <td>NaN</td>\n",
       "      <td>Reg</td>\n",
       "      <td>Bnk</td>\n",
       "      <td>AllPub</td>\n",
       "      <td>Inside</td>\n",
       "      <td>...</td>\n",
       "      <td>0</td>\n",
       "      <td>NaN</td>\n",
       "      <td>NaN</td>\n",
       "      <td>Shed</td>\n",
       "      <td>54</td>\n",
       "      <td>6</td>\n",
       "      <td>2010</td>\n",
       "      <td>WD</td>\n",
       "      <td>Alloca</td>\n",
       "      <td>55993</td>\n",
       "    </tr>\n",
       "    <tr>\n",
       "      <th>1062</th>\n",
       "      <td>30</td>\n",
       "      <td>C (all)</td>\n",
       "      <td>120.0</td>\n",
       "      <td>18000</td>\n",
       "      <td>Grvl</td>\n",
       "      <td>NaN</td>\n",
       "      <td>Reg</td>\n",
       "      <td>Low</td>\n",
       "      <td>AllPub</td>\n",
       "      <td>Inside</td>\n",
       "      <td>...</td>\n",
       "      <td>0</td>\n",
       "      <td>NaN</td>\n",
       "      <td>NaN</td>\n",
       "      <td>Shed</td>\n",
       "      <td>560</td>\n",
       "      <td>8</td>\n",
       "      <td>2008</td>\n",
       "      <td>ConLD</td>\n",
       "      <td>Normal</td>\n",
       "      <td>81000</td>\n",
       "    </tr>\n",
       "    <tr>\n",
       "      <th>1185</th>\n",
       "      <td>20</td>\n",
       "      <td>RL</td>\n",
       "      <td>50.0</td>\n",
       "      <td>35133</td>\n",
       "      <td>Grvl</td>\n",
       "      <td>NaN</td>\n",
       "      <td>Reg</td>\n",
       "      <td>Lvl</td>\n",
       "      <td>AllPub</td>\n",
       "      <td>Inside</td>\n",
       "      <td>...</td>\n",
       "      <td>0</td>\n",
       "      <td>NaN</td>\n",
       "      <td>NaN</td>\n",
       "      <td>NaN</td>\n",
       "      <td>0</td>\n",
       "      <td>5</td>\n",
       "      <td>2007</td>\n",
       "      <td>WD</td>\n",
       "      <td>Normal</td>\n",
       "      <td>186700</td>\n",
       "    </tr>\n",
       "  </tbody>\n",
       "</table>\n",
       "<p>6 rows × 80 columns</p>\n",
       "</div>"
      ],
      "text/plain": [
       "      MSSubClass MSZoning  LotFrontage  LotArea Street Alley LotShape  \\\n",
       "Id                                                                      \n",
       "53            90       RM        110.0     8472   Grvl   NaN      IR2   \n",
       "336          190       RL          NaN   164660   Grvl   NaN      IR1   \n",
       "583           90       RL         81.0    11841   Grvl   NaN      Reg   \n",
       "813           20  C (all)         66.0     8712   Grvl   NaN      Reg   \n",
       "1062          30  C (all)        120.0    18000   Grvl   NaN      Reg   \n",
       "1185          20       RL         50.0    35133   Grvl   NaN      Reg   \n",
       "\n",
       "     LandContour Utilities LotConfig    ...     PoolArea PoolQC Fence  \\\n",
       "Id                                      ...                             \n",
       "53           Bnk    AllPub    Corner    ...            0    NaN   NaN   \n",
       "336          HLS    AllPub    Corner    ...            0    NaN   NaN   \n",
       "583          Lvl    AllPub    Inside    ...            0    NaN   NaN   \n",
       "813          Bnk    AllPub    Inside    ...            0    NaN   NaN   \n",
       "1062         Low    AllPub    Inside    ...            0    NaN   NaN   \n",
       "1185         Lvl    AllPub    Inside    ...            0    NaN   NaN   \n",
       "\n",
       "     MiscFeature MiscVal MoSold  YrSold  SaleType  SaleCondition  SalePrice  \n",
       "Id                                                                           \n",
       "53           NaN       0      5    2010        WD         Normal     110000  \n",
       "336         Shed     700      8    2008        WD         Normal     228950  \n",
       "583          NaN       0      5    2007        WD         Normal     118500  \n",
       "813         Shed      54      6    2010        WD         Alloca      55993  \n",
       "1062        Shed     560      8    2008     ConLD         Normal      81000  \n",
       "1185         NaN       0      5    2007        WD         Normal     186700  \n",
       "\n",
       "[6 rows x 80 columns]"
      ]
     },
     "execution_count": 72,
     "metadata": {},
     "output_type": "execute_result"
    }
   ],
   "source": [
    "trainset[trainset.Street == 'Grvl']"
   ]
  },
  {
   "cell_type": "code",
   "execution_count": 76,
   "metadata": {
    "collapsed": false
   },
   "outputs": [
    {
     "data": {
      "text/html": [
       "<div>\n",
       "<table border=\"1\" class=\"dataframe\">\n",
       "  <thead>\n",
       "    <tr style=\"text-align: right;\">\n",
       "      <th></th>\n",
       "      <th>std</th>\n",
       "      <th>count</th>\n",
       "      <th>mean</th>\n",
       "    </tr>\n",
       "    <tr>\n",
       "      <th>Alley</th>\n",
       "      <th></th>\n",
       "      <th></th>\n",
       "      <th></th>\n",
       "    </tr>\n",
       "  </thead>\n",
       "  <tbody>\n",
       "    <tr>\n",
       "      <th>-1</th>\n",
       "      <td>80667.145177</td>\n",
       "      <td>1369</td>\n",
       "      <td>183452</td>\n",
       "    </tr>\n",
       "    <tr>\n",
       "      <th>0</th>\n",
       "      <td>34780.780727</td>\n",
       "      <td>50</td>\n",
       "      <td>122219</td>\n",
       "    </tr>\n",
       "    <tr>\n",
       "      <th>1</th>\n",
       "      <td>38370.375239</td>\n",
       "      <td>41</td>\n",
       "      <td>168000</td>\n",
       "    </tr>\n",
       "  </tbody>\n",
       "</table>\n",
       "</div>"
      ],
      "text/plain": [
       "                std  count    mean\n",
       "Alley                             \n",
       "-1     80667.145177   1369  183452\n",
       " 0     34780.780727     50  122219\n",
       " 1     38370.375239     41  168000"
      ]
     },
     "execution_count": 76,
     "metadata": {},
     "output_type": "execute_result"
    }
   ],
   "source": [
    "ualley = trainset.Alley.unique()\n",
    "alleymap = dict(zip(ualley, range(-1, ualley.size-1)))\n",
    "trainset.groupby(trainset.Alley.map(alleymap)).SalePrice.agg(aggvals)"
   ]
  },
  {
   "cell_type": "markdown",
   "metadata": {},
   "source": [
    "The NAs in alley access type means no access so we map the NaNs into -1 to obtain statistics. Houses with alley access takes a small fraction of the total training set. "
   ]
  },
  {
   "cell_type": "code",
   "execution_count": 87,
   "metadata": {
    "collapsed": false
   },
   "outputs": [
    {
     "data": {
      "text/plain": [
       "0.92666209732693627"
      ]
     },
     "execution_count": 87,
     "metadata": {},
     "output_type": "execute_result"
    }
   ],
   "source": [
    "(testset.isnull().sum() / testset.shape[0]).Alley"
   ]
  },
  {
   "cell_type": "markdown",
   "metadata": {},
   "source": [
    "And so is the case in the test set. As a result, we ignore the Alley feature for now. We may revisit it later for fine tuning the model for houses with alley access. Below we start a record for features we want to use, separated into discrete and continous feature sets."
   ]
  },
  {
   "cell_type": "code",
   "execution_count": 137,
   "metadata": {
    "collapsed": true
   },
   "outputs": [],
   "source": [
    "feats_disc = ['MSSubClass', 'MSZoning']\n",
    "feats_cont = ['LotFrontage', 'LotArea']"
   ]
  },
  {
   "cell_type": "code",
   "execution_count": 89,
   "metadata": {
    "collapsed": false
   },
   "outputs": [
    {
     "data": {
      "text/html": [
       "<div>\n",
       "<table border=\"1\" class=\"dataframe\">\n",
       "  <thead>\n",
       "    <tr style=\"text-align: right;\">\n",
       "      <th></th>\n",
       "      <th>std</th>\n",
       "      <th>count</th>\n",
       "      <th>mean</th>\n",
       "    </tr>\n",
       "    <tr>\n",
       "      <th>LotShape</th>\n",
       "      <th></th>\n",
       "      <th></th>\n",
       "      <th></th>\n",
       "    </tr>\n",
       "  </thead>\n",
       "  <tbody>\n",
       "    <tr>\n",
       "      <th>IR1</th>\n",
       "      <td>85858.489557</td>\n",
       "      <td>484</td>\n",
       "      <td>206101</td>\n",
       "    </tr>\n",
       "    <tr>\n",
       "      <th>IR2</th>\n",
       "      <td>99669.427359</td>\n",
       "      <td>41</td>\n",
       "      <td>239833</td>\n",
       "    </tr>\n",
       "    <tr>\n",
       "      <th>IR3</th>\n",
       "      <td>82540.334855</td>\n",
       "      <td>10</td>\n",
       "      <td>216036</td>\n",
       "    </tr>\n",
       "    <tr>\n",
       "      <th>Reg</th>\n",
       "      <td>69673.427209</td>\n",
       "      <td>925</td>\n",
       "      <td>164754</td>\n",
       "    </tr>\n",
       "  </tbody>\n",
       "</table>\n",
       "</div>"
      ],
      "text/plain": [
       "                   std  count    mean\n",
       "LotShape                             \n",
       "IR1       85858.489557    484  206101\n",
       "IR2       99669.427359     41  239833\n",
       "IR3       82540.334855     10  216036\n",
       "Reg       69673.427209    925  164754"
      ]
     },
     "execution_count": 89,
     "metadata": {},
     "output_type": "execute_result"
    }
   ],
   "source": [
    "trainset.groupby('LotShape').SalePrice.agg(aggvals)"
   ]
  },
  {
   "cell_type": "markdown",
   "metadata": {},
   "source": [
    "Lot shape is an interesting feature. It is not clear what regular means but it seems irregular lots usually fetches higher prices. The IR2 and IR3 both has small sample sizes."
   ]
  },
  {
   "cell_type": "code",
   "execution_count": 95,
   "metadata": {
    "collapsed": false
   },
   "outputs": [
    {
     "data": {
      "text/plain": [
       "LotShape  MSSubClass\n",
       "IR1       20            201\n",
       "          30             11\n",
       "          45              1\n",
       "          50             27\n",
       "          60            143\n",
       "          70             13\n",
       "          75              2\n",
       "          80             29\n",
       "          85             10\n",
       "          90             10\n",
       "          120            30\n",
       "          160             4\n",
       "          190             3\n",
       "IR2       20             14\n",
       "          50              3\n",
       "          60             19\n",
       "          75              1\n",
       "          90              1\n",
       "          120             2\n",
       "          160             1\n",
       "IR3       20              4\n",
       "          30              1\n",
       "          60              5\n",
       "Reg       20            317\n",
       "          30             57\n",
       "          40              4\n",
       "          45             11\n",
       "          50            114\n",
       "          60            132\n",
       "          70             47\n",
       "          75             13\n",
       "          80             29\n",
       "          85             10\n",
       "          90             41\n",
       "          120            55\n",
       "          160            58\n",
       "          180            10\n",
       "          190            27\n",
       "Name: LotShape, dtype: int64"
      ]
     },
     "execution_count": 95,
     "metadata": {},
     "output_type": "execute_result"
    }
   ],
   "source": [
    "trainset.groupby(['LotShape', 'MSSubClass']).LotShape.agg('count')"
   ]
  },
  {
   "cell_type": "code",
   "execution_count": 101,
   "metadata": {
    "collapsed": false
   },
   "outputs": [
    {
     "data": {
      "text/html": [
       "<div>\n",
       "<table border=\"1\" class=\"dataframe\">\n",
       "  <thead>\n",
       "    <tr style=\"text-align: right;\">\n",
       "      <th></th>\n",
       "      <th>std</th>\n",
       "      <th>count</th>\n",
       "      <th>mean</th>\n",
       "    </tr>\n",
       "    <tr>\n",
       "      <th>LotShape</th>\n",
       "      <th></th>\n",
       "      <th></th>\n",
       "      <th></th>\n",
       "    </tr>\n",
       "  </thead>\n",
       "  <tbody>\n",
       "    <tr>\n",
       "      <th>IR1</th>\n",
       "      <td>9279.619227</td>\n",
       "      <td>484</td>\n",
       "      <td>11894.545455</td>\n",
       "    </tr>\n",
       "    <tr>\n",
       "      <th>IR2</th>\n",
       "      <td>29138.010090</td>\n",
       "      <td>41</td>\n",
       "      <td>23733.658537</td>\n",
       "    </tr>\n",
       "    <tr>\n",
       "      <th>IR3</th>\n",
       "      <td>63129.108967</td>\n",
       "      <td>10</td>\n",
       "      <td>41338.200000</td>\n",
       "    </tr>\n",
       "    <tr>\n",
       "      <th>Reg</th>\n",
       "      <td>3873.766772</td>\n",
       "      <td>925</td>\n",
       "      <td>8876.915676</td>\n",
       "    </tr>\n",
       "  </tbody>\n",
       "</table>\n",
       "</div>"
      ],
      "text/plain": [
       "                   std  count          mean\n",
       "LotShape                                   \n",
       "IR1        9279.619227    484  11894.545455\n",
       "IR2       29138.010090     41  23733.658537\n",
       "IR3       63129.108967     10  41338.200000\n",
       "Reg        3873.766772    925   8876.915676"
      ]
     },
     "execution_count": 101,
     "metadata": {},
     "output_type": "execute_result"
    }
   ],
   "source": [
    "ulots = trainset.LotShape.unique()\n",
    "lotshapemap = dict(zip(ulots, range(0, ulots.size)))\n",
    "trainset.groupby('LotShape').LotArea.agg(aggvals)"
   ]
  },
  {
   "cell_type": "markdown",
   "metadata": {},
   "source": [
    "It seems that the reason could be irregular lots usually have larger lot area, which generally corresponds to higher prices. The irregular houses also has a higher proportion of high-price types of dwelling (MSSubClass) like type 60: 2-STORY 1946 & NEWER. It seems that the LotShape feature could be represented by other features already in the feature set. The figure below also shows it is not a good classifier for potentially different trends between other continous features. Therefore we ignore this feature for now. If we ever want to use this feature we may need to combine some categories like all IRs together since the sample size of IR2 and IR3 are relatively small."
   ]
  },
  {
   "cell_type": "code",
   "execution_count": 104,
   "metadata": {
    "collapsed": false
   },
   "outputs": [
    {
     "data": {
      "image/png": "[encoded data removed]",
      "text/plain": [
       "<matplotlib.figure.Figure at 0x1a688cc0>"
      ]
     },
     "metadata": {},
     "output_type": "display_data"
    }
   ],
   "source": [
    "fig = plt.figure\n",
    "ax = plt.gca()\n",
    "ax.scatter(trainset.LotArea, trainset.SalePrice, c = trainset.LotShape.map(lotshapemap))\n",
    "ax.set_xscale('log')\n",
    "plt.xlabel('Lot size (ft^2)')\n",
    "plt.ylabel('Sale Price ($)')\n",
    "plt.grid()\n",
    "plt.show()"
   ]
  },
  {
   "cell_type": "code",
   "execution_count": 143,
   "metadata": {
    "collapsed": true
   },
   "outputs": [],
   "source": [
    "def generatemap(col):\n",
    "    uvals = col.unique()\n",
    "    return dict(zip(uvals, range(1, uvals.size + 1)))"
   ]
  },
  {
   "cell_type": "code",
   "execution_count": 130,
   "metadata": {
    "collapsed": false
   },
   "outputs": [
    {
     "data": {
      "text/html": [
       "<div>\n",
       "<table border=\"1\" class=\"dataframe\">\n",
       "  <thead>\n",
       "    <tr style=\"text-align: right;\">\n",
       "      <th></th>\n",
       "      <th>std</th>\n",
       "      <th>count</th>\n",
       "      <th>mean</th>\n",
       "    </tr>\n",
       "    <tr>\n",
       "      <th>LandContour</th>\n",
       "      <th></th>\n",
       "      <th></th>\n",
       "      <th></th>\n",
       "    </tr>\n",
       "  </thead>\n",
       "  <tbody>\n",
       "    <tr>\n",
       "      <th>Bnk</th>\n",
       "      <td>49361.244069</td>\n",
       "      <td>63</td>\n",
       "      <td>143104</td>\n",
       "    </tr>\n",
       "    <tr>\n",
       "      <th>HLS</th>\n",
       "      <td>101790.139739</td>\n",
       "      <td>50</td>\n",
       "      <td>231533</td>\n",
       "    </tr>\n",
       "    <tr>\n",
       "      <th>Low</th>\n",
       "      <td>83935.353618</td>\n",
       "      <td>36</td>\n",
       "      <td>203661</td>\n",
       "    </tr>\n",
       "    <tr>\n",
       "      <th>Lvl</th>\n",
       "      <td>78463.567915</td>\n",
       "      <td>1311</td>\n",
       "      <td>180183</td>\n",
       "    </tr>\n",
       "  </tbody>\n",
       "</table>\n",
       "</div>"
      ],
      "text/plain": [
       "                       std  count    mean\n",
       "LandContour                              \n",
       "Bnk           49361.244069     63  143104\n",
       "HLS          101790.139739     50  231533\n",
       "Low           83935.353618     36  203661\n",
       "Lvl           78463.567915   1311  180183"
      ]
     },
     "execution_count": 130,
     "metadata": {},
     "output_type": "execute_result"
    }
   ],
   "source": [
    "landcontmap = generatemap(trainset.LandContour)\n",
    "trainset.groupby('LandContour').SalePrice.agg(aggvals)"
   ]
  },
  {
   "cell_type": "markdown",
   "metadata": {},
   "source": [
    "Similar to Alley access feature, the land contour has a small number of outliers that are not near flat with the majority of the houses with near flat countours and the mean sales price close to mean sales price for all houses. "
   ]
  },
  {
   "cell_type": "code",
   "execution_count": 134,
   "metadata": {
    "collapsed": false
   },
   "outputs": [
    {
     "data": {
      "text/html": [
       "<div>\n",
       "<table border=\"1\" class=\"dataframe\">\n",
       "  <thead>\n",
       "    <tr style=\"text-align: right;\">\n",
       "      <th></th>\n",
       "      <th>std</th>\n",
       "      <th>count</th>\n",
       "      <th>mean</th>\n",
       "    </tr>\n",
       "    <tr>\n",
       "      <th>LandContour</th>\n",
       "      <th></th>\n",
       "      <th></th>\n",
       "      <th></th>\n",
       "    </tr>\n",
       "  </thead>\n",
       "  <tbody>\n",
       "    <tr>\n",
       "      <th>Bnk</th>\n",
       "      <td>11620.246512</td>\n",
       "      <td>63</td>\n",
       "      <td>11836.888889</td>\n",
       "    </tr>\n",
       "    <tr>\n",
       "      <th>HLS</th>\n",
       "      <td>23032.507896</td>\n",
       "      <td>50</td>\n",
       "      <td>15264.640000</td>\n",
       "    </tr>\n",
       "    <tr>\n",
       "      <th>Low</th>\n",
       "      <td>44323.418020</td>\n",
       "      <td>36</td>\n",
       "      <td>33075.250000</td>\n",
       "    </tr>\n",
       "    <tr>\n",
       "      <th>Lvl</th>\n",
       "      <td>4069.307189</td>\n",
       "      <td>1311</td>\n",
       "      <td>9652.863463</td>\n",
       "    </tr>\n",
       "  </tbody>\n",
       "</table>\n",
       "</div>"
      ],
      "text/plain": [
       "                      std  count          mean\n",
       "LandContour                                   \n",
       "Bnk          11620.246512     63  11836.888889\n",
       "HLS          23032.507896     50  15264.640000\n",
       "Low          44323.418020     36  33075.250000\n",
       "Lvl           4069.307189   1311   9652.863463"
      ]
     },
     "execution_count": 134,
     "metadata": {},
     "output_type": "execute_result"
    }
   ],
   "source": [
    "trainset.groupby('LandContour').LotArea.agg(aggvals)"
   ]
  },
  {
   "cell_type": "code",
   "execution_count": 133,
   "metadata": {
    "collapsed": false
   },
   "outputs": [
    {
     "data": {
      "image/png": "[encoded data removed]",
      "text/plain": [
       "<matplotlib.figure.Figure at 0x10aacfd0>"
      ]
     },
     "metadata": {},
     "output_type": "display_data"
    }
   ],
   "source": [
    "fig = plt.figure\n",
    "ax = plt.gca()\n",
    "ax.scatter(trainset.LotArea, trainset.SalePrice, c = trainset.LandContour.map(landcontmap))\n",
    "ax.set_xscale('log')\n",
    "plt.xlabel('Lot size (ft^2)')\n",
    "plt.ylabel('Sale Price ($)')\n",
    "plt.grid()\n",
    "plt.show()"
   ]
  },
  {
   "cell_type": "markdown",
   "metadata": {},
   "source": [
    "It does seem the LandContour can be used as a classifier for different lot size vs. sales price relationship. Furthermore, it doesn't seem that the price for a certtain contour type is not necessarily because of its correlation to the lot size or other features we examined so far. As a result, we add it to the discrete feature list."
   ]
  },
  {
   "cell_type": "code",
   "execution_count": 138,
   "metadata": {
    "collapsed": true
   },
   "outputs": [
    {
     "data": {
      "text/plain": [
       "['MSSubClass', 'MSZoning', 'LandContour']"
      ]
     },
     "execution_count": 138,
     "metadata": {},
     "output_type": "execute_result"
    }
   ],
   "source": [
    "feats_disc.append('LandContour')"
   ]
  },
  {
   "cell_type": "code",
   "execution_count": 139,
   "metadata": {
    "collapsed": false
   },
   "outputs": [
    {
     "data": {
      "text/html": [
       "<div>\n",
       "<table border=\"1\" class=\"dataframe\">\n",
       "  <thead>\n",
       "    <tr style=\"text-align: right;\">\n",
       "      <th></th>\n",
       "      <th>std</th>\n",
       "      <th>count</th>\n",
       "      <th>mean</th>\n",
       "    </tr>\n",
       "    <tr>\n",
       "      <th>Utilities</th>\n",
       "      <th></th>\n",
       "      <th></th>\n",
       "      <th></th>\n",
       "    </tr>\n",
       "  </thead>\n",
       "  <tbody>\n",
       "    <tr>\n",
       "      <th>AllPub</th>\n",
       "      <td>79461.599814</td>\n",
       "      <td>1459</td>\n",
       "      <td>180950</td>\n",
       "    </tr>\n",
       "    <tr>\n",
       "      <th>NoSeWa</th>\n",
       "      <td>NaN</td>\n",
       "      <td>1</td>\n",
       "      <td>137500</td>\n",
       "    </tr>\n",
       "  </tbody>\n",
       "</table>\n",
       "</div>"
      ],
      "text/plain": [
       "                    std  count    mean\n",
       "Utilities                             \n",
       "AllPub     79461.599814   1459  180950\n",
       "NoSeWa              NaN      1  137500"
      ]
     },
     "execution_count": 139,
     "metadata": {},
     "output_type": "execute_result"
    }
   ],
   "source": [
    "trainset.groupby('Utilities').SalePrice.agg(aggvals)"
   ]
  },
  {
   "cell_type": "markdown",
   "metadata": {},
   "source": [
    "Since all the data entries except for one in the training set has AllPub utility type, this feature is not useful in predicting house price with the current training set. We leave it out of future models."
   ]
  },
  {
   "cell_type": "code",
   "execution_count": 149,
   "metadata": {
    "collapsed": false
   },
   "outputs": [
    {
     "data": {
      "text/html": [
       "<div>\n",
       "<table border=\"1\" class=\"dataframe\">\n",
       "  <thead>\n",
       "    <tr>\n",
       "      <th></th>\n",
       "      <th colspan=\"3\" halign=\"left\">SalePrice</th>\n",
       "      <th colspan=\"3\" halign=\"left\">LotArea</th>\n",
       "    </tr>\n",
       "    <tr>\n",
       "      <th></th>\n",
       "      <th>std</th>\n",
       "      <th>count</th>\n",
       "      <th>mean</th>\n",
       "      <th>std</th>\n",
       "      <th>count</th>\n",
       "      <th>mean</th>\n",
       "    </tr>\n",
       "    <tr>\n",
       "      <th>LotConfig</th>\n",
       "      <th></th>\n",
       "      <th></th>\n",
       "      <th></th>\n",
       "      <th></th>\n",
       "      <th></th>\n",
       "      <th></th>\n",
       "    </tr>\n",
       "  </thead>\n",
       "  <tbody>\n",
       "    <tr>\n",
       "      <th>Corner</th>\n",
       "      <td>84466.041218</td>\n",
       "      <td>263</td>\n",
       "      <td>181623</td>\n",
       "      <td>11020.980129</td>\n",
       "      <td>263</td>\n",
       "      <td>11426.231939</td>\n",
       "    </tr>\n",
       "    <tr>\n",
       "      <th>CulDSac</th>\n",
       "      <td>93117.546585</td>\n",
       "      <td>94</td>\n",
       "      <td>223854</td>\n",
       "      <td>20157.350917</td>\n",
       "      <td>94</td>\n",
       "      <td>17342.053191</td>\n",
       "    </tr>\n",
       "    <tr>\n",
       "      <th>FR2</th>\n",
       "      <td>62788.926826</td>\n",
       "      <td>47</td>\n",
       "      <td>177934</td>\n",
       "      <td>4970.987226</td>\n",
       "      <td>47</td>\n",
       "      <td>10398.276596</td>\n",
       "    </tr>\n",
       "    <tr>\n",
       "      <th>FR3</th>\n",
       "      <td>78379.222374</td>\n",
       "      <td>4</td>\n",
       "      <td>208475</td>\n",
       "      <td>5656.072401</td>\n",
       "      <td>4</td>\n",
       "      <td>8706.250000</td>\n",
       "    </tr>\n",
       "    <tr>\n",
       "      <th>Inside</th>\n",
       "      <td>76426.805782</td>\n",
       "      <td>1052</td>\n",
       "      <td>176938</td>\n",
       "      <td>8113.388256</td>\n",
       "      <td>1052</td>\n",
       "      <td>9691.799430</td>\n",
       "    </tr>\n",
       "  </tbody>\n",
       "</table>\n",
       "</div>"
      ],
      "text/plain": [
       "              SalePrice                     LotArea                    \n",
       "                    std count    mean           std count          mean\n",
       "LotConfig                                                              \n",
       "Corner     84466.041218   263  181623  11020.980129   263  11426.231939\n",
       "CulDSac    93117.546585    94  223854  20157.350917    94  17342.053191\n",
       "FR2        62788.926826    47  177934   4970.987226    47  10398.276596\n",
       "FR3        78379.222374     4  208475   5656.072401     4   8706.250000\n",
       "Inside     76426.805782  1052  176938   8113.388256  1052   9691.799430"
      ]
     },
     "execution_count": 149,
     "metadata": {},
     "output_type": "execute_result"
    }
   ],
   "source": [
    "trainset.groupby('LotConfig')[['SalePrice', 'LotArea']].agg(aggvals)"
   ]
  },
  {
   "cell_type": "code",
   "execution_count": 146,
   "metadata": {
    "collapsed": false
   },
   "outputs": [
    {
     "data": {
      "image/png": "[encoded data removed]",
      "text/plain": [
       "<matplotlib.figure.Figure at 0x9fc3cc0>"
      ]
     },
     "metadata": {},
     "output_type": "display_data"
    }
   ],
   "source": [
    "lotconfigmap = generatemap(trainset.LotConfig)\n",
    "fig = plt.figure\n",
    "ax = plt.gca()\n",
    "ax.scatter(trainset.LotArea, trainset.SalePrice, c = trainset.LotConfig.map(lotconfigmap))\n",
    "ax.set_xscale('log')\n",
    "plt.xlabel('Lot size (ft^2)')\n",
    "plt.ylabel('Sale Price ($)')\n",
    "plt.grid()\n",
    "plt.show()"
   ]
  },
  {
   "cell_type": "code",
   "execution_count": 152,
   "metadata": {
    "collapsed": false
   },
   "outputs": [
    {
     "data": {
      "text/plain": [
       "array([[ 1.        ,  0.10910587],\n",
       "       [ 0.10910587,  1.        ]])"
      ]
     },
     "execution_count": 152,
     "metadata": {},
     "output_type": "execute_result"
    }
   ],
   "source": [
    "np.corrcoef(trainset.SalePrice, trainset.LotConfig.map(lotconfigmap))"
   ]
  },
  {
   "cell_type": "code",
   "execution_count": 154,
   "metadata": {
    "collapsed": false
   },
   "outputs": [
    {
     "data": {
      "text/plain": [
       "LotConfig  MSSubClass\n",
       "Corner     20             99\n",
       "           30             13\n",
       "           40              1\n",
       "           45              3\n",
       "           50             31\n",
       "           60             58\n",
       "           70             12\n",
       "           75              5\n",
       "           80             11\n",
       "           85              4\n",
       "           90             10\n",
       "           120             5\n",
       "           160             5\n",
       "           190             6\n",
       "CulDSac    20             40\n",
       "           50              4\n",
       "           60             32\n",
       "           80              6\n",
       "           85              5\n",
       "           90              1\n",
       "           120             5\n",
       "           160             1\n",
       "FR2        20             18\n",
       "           30              1\n",
       "           50              3\n",
       "           60             10\n",
       "           80              5\n",
       "           90              2\n",
       "           120             4\n",
       "           160             4\n",
       "FR3        20              1\n",
       "           70              1\n",
       "           120             1\n",
       "           160             1\n",
       "Inside     20            378\n",
       "           30             55\n",
       "           40              3\n",
       "           45              9\n",
       "           50            106\n",
       "           60            199\n",
       "           70             47\n",
       "           75             11\n",
       "           80             36\n",
       "           85             11\n",
       "           90             39\n",
       "           120            72\n",
       "           160            52\n",
       "           180            10\n",
       "           190            24\n",
       "Name: LotConfig, dtype: int64"
      ]
     },
     "execution_count": 154,
     "metadata": {},
     "output_type": "execute_result"
    }
   ],
   "source": [
    "trainset.groupby(['LotConfig', 'MSSubClass']).LotConfig.agg('count')"
   ]
  },
  {
   "cell_type": "markdown",
   "metadata": {},
   "source": [
    "It seems that sales price can be correlated to the LotConfig feature. Furthermore, the correlation can't seem to be explained by other features we already explored. So it is added to the discete feature set."
   ]
  },
  {
   "cell_type": "code",
   "execution_count": 155,
   "metadata": {
    "collapsed": true
   },
   "outputs": [],
   "source": [
    "feats_disc.append('LotConfig')"
   ]
  },
  {
   "cell_type": "code",
   "execution_count": 156,
   "metadata": {
    "collapsed": false
   },
   "outputs": [
    {
     "data": {
      "text/html": [
       "<div>\n",
       "<table border=\"1\" class=\"dataframe\">\n",
       "  <thead>\n",
       "    <tr>\n",
       "      <th></th>\n",
       "      <th colspan=\"3\" halign=\"left\">SalePrice</th>\n",
       "      <th colspan=\"3\" halign=\"left\">LotArea</th>\n",
       "    </tr>\n",
       "    <tr>\n",
       "      <th></th>\n",
       "      <th>std</th>\n",
       "      <th>count</th>\n",
       "      <th>mean</th>\n",
       "      <th>std</th>\n",
       "      <th>count</th>\n",
       "      <th>mean</th>\n",
       "    </tr>\n",
       "    <tr>\n",
       "      <th>LandSlope</th>\n",
       "      <th></th>\n",
       "      <th></th>\n",
       "      <th></th>\n",
       "      <th></th>\n",
       "      <th></th>\n",
       "      <th></th>\n",
       "    </tr>\n",
       "  </thead>\n",
       "  <tbody>\n",
       "    <tr>\n",
       "      <th>Gtl</th>\n",
       "      <td>78669.369147</td>\n",
       "      <td>1382</td>\n",
       "      <td>179956</td>\n",
       "      <td>4639.070058</td>\n",
       "      <td>1382</td>\n",
       "      <td>9780.305355</td>\n",
       "    </tr>\n",
       "    <tr>\n",
       "      <th>Mod</th>\n",
       "      <td>92375.358116</td>\n",
       "      <td>65</td>\n",
       "      <td>196734</td>\n",
       "      <td>13207.937689</td>\n",
       "      <td>65</td>\n",
       "      <td>14799.415385</td>\n",
       "    </tr>\n",
       "    <tr>\n",
       "      <th>Sev</th>\n",
       "      <td>86729.922409</td>\n",
       "      <td>13</td>\n",
       "      <td>204379</td>\n",
       "      <td>70981.147546</td>\n",
       "      <td>13</td>\n",
       "      <td>67401.923077</td>\n",
       "    </tr>\n",
       "  </tbody>\n",
       "</table>\n",
       "</div>"
      ],
      "text/plain": [
       "              SalePrice                     LotArea                    \n",
       "                    std count    mean           std count          mean\n",
       "LandSlope                                                              \n",
       "Gtl        78669.369147  1382  179956   4639.070058  1382   9780.305355\n",
       "Mod        92375.358116    65  196734  13207.937689    65  14799.415385\n",
       "Sev        86729.922409    13  204379  70981.147546    13  67401.923077"
      ]
     },
     "execution_count": 156,
     "metadata": {},
     "output_type": "execute_result"
    }
   ],
   "source": [
    "trainset.groupby('LandSlope')[['SalePrice', 'LotArea']].agg(aggvals)"
   ]
  },
  {
   "cell_type": "code",
   "execution_count": 158,
   "metadata": {
    "collapsed": false
   },
   "outputs": [
    {
     "data": {
      "text/plain": [
       "LandSlope  LandContour\n",
       "Gtl        Bnk              47\n",
       "           HLS              32\n",
       "           Low               9\n",
       "           Lvl            1294\n",
       "Mod        Bnk              15\n",
       "           HLS              16\n",
       "           Low              18\n",
       "           Lvl              16\n",
       "Sev        Bnk               1\n",
       "           HLS               2\n",
       "           Low               9\n",
       "           Lvl               1\n",
       "Name: SalePrice, dtype: int64"
      ]
     },
     "execution_count": 158,
     "metadata": {},
     "output_type": "execute_result"
    }
   ],
   "source": [
    "trainset.groupby(['LandSlope', 'LandContour']).SalePrice.agg('count')"
   ]
  },
  {
   "cell_type": "markdown",
   "metadata": {},
   "source": [
    "The LandSlope feature is not the same as LandContour feature. It seems steeper slope is correlated to higher sale prices. But it could be because steeper slopes are correlated to larger lot size. The plot below shows that those with steeper slops have a larger average lot size. Those with sever slope seems to form a distinct lot size vs. sale price trend. But the feature LandContour was able to performce similarly. Therefore we leave LandSlope out for now and may revisit it later."
   ]
  },
  {
   "cell_type": "code",
   "execution_count": 159,
   "metadata": {
    "collapsed": false
   },
   "outputs": [
    {
     "data": {
      "image/png": "[encoded data removed]",
      "text/plain": [
       "<matplotlib.figure.Figure at 0x109c40f0>"
      ]
     },
     "metadata": {},
     "output_type": "display_data"
    }
   ],
   "source": [
    "landslopemap = generatemap(trainset.LandSlope)\n",
    "fig = plt.figure\n",
    "ax = plt.gca()\n",
    "ax.scatter(trainset.LotArea, trainset.SalePrice, c = trainset.LandSlope.map(landslopemap))\n",
    "ax.set_xscale('log')\n",
    "plt.xlabel('Lot size (ft^2)')\n",
    "plt.ylabel('Sale Price ($)')\n",
    "plt.grid()\n",
    "plt.show()"
   ]
  },
  {
   "cell_type": "code",
   "execution_count": 163,
   "metadata": {
    "collapsed": false
   },
   "outputs": [
    {
     "data": {
      "text/html": [
       "<div>\n",
       "<table border=\"1\" class=\"dataframe\">\n",
       "  <thead>\n",
       "    <tr style=\"text-align: right;\">\n",
       "      <th></th>\n",
       "      <th>std</th>\n",
       "      <th>count</th>\n",
       "      <th>mean</th>\n",
       "    </tr>\n",
       "    <tr>\n",
       "      <th>Neighborhood</th>\n",
       "      <th></th>\n",
       "      <th></th>\n",
       "      <th></th>\n",
       "    </tr>\n",
       "  </thead>\n",
       "  <tbody>\n",
       "    <tr>\n",
       "      <th>MeadowV</th>\n",
       "      <td>23491.049593</td>\n",
       "      <td>17</td>\n",
       "      <td>98576</td>\n",
       "    </tr>\n",
       "    <tr>\n",
       "      <th>IDOTRR</th>\n",
       "      <td>33376.710113</td>\n",
       "      <td>37</td>\n",
       "      <td>100123</td>\n",
       "    </tr>\n",
       "    <tr>\n",
       "      <th>BrDale</th>\n",
       "      <td>14330.176482</td>\n",
       "      <td>16</td>\n",
       "      <td>104493</td>\n",
       "    </tr>\n",
       "    <tr>\n",
       "      <th>BrkSide</th>\n",
       "      <td>40348.689260</td>\n",
       "      <td>58</td>\n",
       "      <td>124834</td>\n",
       "    </tr>\n",
       "    <tr>\n",
       "      <th>Edwards</th>\n",
       "      <td>43208.616456</td>\n",
       "      <td>100</td>\n",
       "      <td>128219</td>\n",
       "    </tr>\n",
       "    <tr>\n",
       "      <th>OldTown</th>\n",
       "      <td>52650.583178</td>\n",
       "      <td>113</td>\n",
       "      <td>128225</td>\n",
       "    </tr>\n",
       "    <tr>\n",
       "      <th>Sawyer</th>\n",
       "      <td>22345.129156</td>\n",
       "      <td>74</td>\n",
       "      <td>136793</td>\n",
       "    </tr>\n",
       "    <tr>\n",
       "      <th>Blueste</th>\n",
       "      <td>19091.883092</td>\n",
       "      <td>2</td>\n",
       "      <td>137500</td>\n",
       "    </tr>\n",
       "    <tr>\n",
       "      <th>SWISU</th>\n",
       "      <td>32622.917665</td>\n",
       "      <td>25</td>\n",
       "      <td>142591</td>\n",
       "    </tr>\n",
       "    <tr>\n",
       "      <th>NPkVill</th>\n",
       "      <td>9377.314488</td>\n",
       "      <td>9</td>\n",
       "      <td>142694</td>\n",
       "    </tr>\n",
       "    <tr>\n",
       "      <th>NAmes</th>\n",
       "      <td>33075.345440</td>\n",
       "      <td>225</td>\n",
       "      <td>145847</td>\n",
       "    </tr>\n",
       "    <tr>\n",
       "      <th>Mitchel</th>\n",
       "      <td>36486.625330</td>\n",
       "      <td>49</td>\n",
       "      <td>156270</td>\n",
       "    </tr>\n",
       "    <tr>\n",
       "      <th>SawyerW</th>\n",
       "      <td>55651.997817</td>\n",
       "      <td>59</td>\n",
       "      <td>186555</td>\n",
       "    </tr>\n",
       "    <tr>\n",
       "      <th>NWAmes</th>\n",
       "      <td>37172.218094</td>\n",
       "      <td>73</td>\n",
       "      <td>189050</td>\n",
       "    </tr>\n",
       "    <tr>\n",
       "      <th>Gilbert</th>\n",
       "      <td>35986.779072</td>\n",
       "      <td>79</td>\n",
       "      <td>192854</td>\n",
       "    </tr>\n",
       "    <tr>\n",
       "      <th>Blmngtn</th>\n",
       "      <td>30393.229213</td>\n",
       "      <td>17</td>\n",
       "      <td>194870</td>\n",
       "    </tr>\n",
       "    <tr>\n",
       "      <th>CollgCr</th>\n",
       "      <td>51403.666435</td>\n",
       "      <td>150</td>\n",
       "      <td>197965</td>\n",
       "    </tr>\n",
       "    <tr>\n",
       "      <th>Crawfor</th>\n",
       "      <td>68866.395470</td>\n",
       "      <td>51</td>\n",
       "      <td>210624</td>\n",
       "    </tr>\n",
       "    <tr>\n",
       "      <th>ClearCr</th>\n",
       "      <td>50231.538987</td>\n",
       "      <td>28</td>\n",
       "      <td>212565</td>\n",
       "    </tr>\n",
       "    <tr>\n",
       "      <th>Somerst</th>\n",
       "      <td>56177.555883</td>\n",
       "      <td>86</td>\n",
       "      <td>225379</td>\n",
       "    </tr>\n",
       "    <tr>\n",
       "      <th>Veenker</th>\n",
       "      <td>72369.317953</td>\n",
       "      <td>11</td>\n",
       "      <td>238772</td>\n",
       "    </tr>\n",
       "    <tr>\n",
       "      <th>Timber</th>\n",
       "      <td>64845.651543</td>\n",
       "      <td>38</td>\n",
       "      <td>242247</td>\n",
       "    </tr>\n",
       "    <tr>\n",
       "      <th>StoneBr</th>\n",
       "      <td>112969.676639</td>\n",
       "      <td>25</td>\n",
       "      <td>310499</td>\n",
       "    </tr>\n",
       "    <tr>\n",
       "      <th>NridgHt</th>\n",
       "      <td>96392.544950</td>\n",
       "      <td>77</td>\n",
       "      <td>316270</td>\n",
       "    </tr>\n",
       "    <tr>\n",
       "      <th>NoRidge</th>\n",
       "      <td>121412.658640</td>\n",
       "      <td>41</td>\n",
       "      <td>335295</td>\n",
       "    </tr>\n",
       "  </tbody>\n",
       "</table>\n",
       "</div>"
      ],
      "text/plain": [
       "                        std  count    mean\n",
       "Neighborhood                              \n",
       "MeadowV        23491.049593     17   98576\n",
       "IDOTRR         33376.710113     37  100123\n",
       "BrDale         14330.176482     16  104493\n",
       "BrkSide        40348.689260     58  124834\n",
       "Edwards        43208.616456    100  128219\n",
       "OldTown        52650.583178    113  128225\n",
       "Sawyer         22345.129156     74  136793\n",
       "Blueste        19091.883092      2  137500\n",
       "SWISU          32622.917665     25  142591\n",
       "NPkVill         9377.314488      9  142694\n",
       "NAmes          33075.345440    225  145847\n",
       "Mitchel        36486.625330     49  156270\n",
       "SawyerW        55651.997817     59  186555\n",
       "NWAmes         37172.218094     73  189050\n",
       "Gilbert        35986.779072     79  192854\n",
       "Blmngtn        30393.229213     17  194870\n",
       "CollgCr        51403.666435    150  197965\n",
       "Crawfor        68866.395470     51  210624\n",
       "ClearCr        50231.538987     28  212565\n",
       "Somerst        56177.555883     86  225379\n",
       "Veenker        72369.317953     11  238772\n",
       "Timber         64845.651543     38  242247\n",
       "StoneBr       112969.676639     25  310499\n",
       "NridgHt        96392.544950     77  316270\n",
       "NoRidge       121412.658640     41  335295"
      ]
     },
     "execution_count": 163,
     "metadata": {},
     "output_type": "execute_result"
    }
   ],
   "source": [
    "trainset.groupby('Neighborhood')['SalePrice'].agg(aggvals).sort_values(by = 'mean')"
   ]
  },
  {
   "cell_type": "code",
   "execution_count": 168,
   "metadata": {
    "collapsed": false
   },
   "outputs": [
    {
     "data": {
      "image/png": "[encoded data removed]",
      "text/plain": [
       "<matplotlib.figure.Figure at 0x10927eb8>"
      ]
     },
     "metadata": {},
     "output_type": "display_data"
    }
   ],
   "source": [
    "plt.plot(trainset.groupby('Neighborhood').LotArea.agg('mean'), trainset.groupby('Neighborhood').SalePrice.agg('mean'), 'sb')\n",
    "plt.ylabel('neighborhood average sale price ($)')\n",
    "plt.xlabel('neighborhood average lot size (ft^2)')\n",
    "plt.show()"
   ]
  },
  {
   "cell_type": "code",
   "execution_count": 170,
   "metadata": {
    "collapsed": false
   },
   "outputs": [
    {
     "data": {
      "text/plain": [
       "array([[ 1.        , -0.14362115],\n",
       "       [-0.14362115,  1.        ]])"
      ]
     },
     "execution_count": 170,
     "metadata": {},
     "output_type": "execute_result"
    }
   ],
   "source": [
    "neighbormap = generatemap(trainset.Neighborhood)\n",
    "np.corrcoef(trainset.SalePrice, trainset.Neighborhood.map(neighbormap))"
   ]
  },
  {
   "cell_type": "markdown",
   "metadata": {},
   "source": [
    "As expected, neighborhood can determine the house price. It may be loosely related to lot area but clearly given a similar lot size the neighborhood can be an important factor in determining the sale price. As a result, we add it to the discrete feature list."
   ]
  },
  {
   "cell_type": "code",
   "execution_count": 171,
   "metadata": {
    "collapsed": true
   },
   "outputs": [],
   "source": [
    "feats_disc.append('Neighborhood')"
   ]
  },
  {
   "cell_type": "code",
   "execution_count": 172,
   "metadata": {
    "collapsed": false
   },
   "outputs": [
    {
     "data": {
      "text/html": [
       "<div>\n",
       "<table border=\"1\" class=\"dataframe\">\n",
       "  <thead>\n",
       "    <tr style=\"text-align: right;\">\n",
       "      <th></th>\n",
       "      <th>std</th>\n",
       "      <th>count</th>\n",
       "      <th>mean</th>\n",
       "    </tr>\n",
       "    <tr>\n",
       "      <th>Condition1</th>\n",
       "      <th></th>\n",
       "      <th></th>\n",
       "      <th></th>\n",
       "    </tr>\n",
       "  </thead>\n",
       "  <tbody>\n",
       "    <tr>\n",
       "      <th>Artery</th>\n",
       "      <td>66226.660545</td>\n",
       "      <td>48</td>\n",
       "      <td>135091</td>\n",
       "    </tr>\n",
       "    <tr>\n",
       "      <th>Feedr</th>\n",
       "      <td>42157.290105</td>\n",
       "      <td>81</td>\n",
       "      <td>142475</td>\n",
       "    </tr>\n",
       "    <tr>\n",
       "      <th>Norm</th>\n",
       "      <td>81256.980119</td>\n",
       "      <td>1260</td>\n",
       "      <td>184495</td>\n",
       "    </tr>\n",
       "    <tr>\n",
       "      <th>PosA</th>\n",
       "      <td>52348.932310</td>\n",
       "      <td>8</td>\n",
       "      <td>225875</td>\n",
       "    </tr>\n",
       "    <tr>\n",
       "      <th>PosN</th>\n",
       "      <td>65256.536607</td>\n",
       "      <td>19</td>\n",
       "      <td>215184</td>\n",
       "    </tr>\n",
       "    <tr>\n",
       "      <th>RRAe</th>\n",
       "      <td>24030.813553</td>\n",
       "      <td>11</td>\n",
       "      <td>138400</td>\n",
       "    </tr>\n",
       "    <tr>\n",
       "      <th>RRAn</th>\n",
       "      <td>66177.922066</td>\n",
       "      <td>26</td>\n",
       "      <td>184396</td>\n",
       "    </tr>\n",
       "    <tr>\n",
       "      <th>RRNe</th>\n",
       "      <td>5303.300859</td>\n",
       "      <td>2</td>\n",
       "      <td>190750</td>\n",
       "    </tr>\n",
       "    <tr>\n",
       "      <th>RRNn</th>\n",
       "      <td>93823.238060</td>\n",
       "      <td>5</td>\n",
       "      <td>212400</td>\n",
       "    </tr>\n",
       "  </tbody>\n",
       "</table>\n",
       "</div>"
      ],
      "text/plain": [
       "                     std  count    mean\n",
       "Condition1                             \n",
       "Artery      66226.660545     48  135091\n",
       "Feedr       42157.290105     81  142475\n",
       "Norm        81256.980119   1260  184495\n",
       "PosA        52348.932310      8  225875\n",
       "PosN        65256.536607     19  215184\n",
       "RRAe        24030.813553     11  138400\n",
       "RRAn        66177.922066     26  184396\n",
       "RRNe         5303.300859      2  190750\n",
       "RRNn        93823.238060      5  212400"
      ]
     },
     "execution_count": 172,
     "metadata": {},
     "output_type": "execute_result"
    }
   ],
   "source": [
    "trainset.groupby('Condition1').SalePrice.agg(aggvals)"
   ]
  },
  {
   "cell_type": "markdown",
   "metadata": {},
   "source": [
    "It seems that near or adjacent to positive features promotes the sale price while adjacent to street, either artery or feeder, reduces sale price."
   ]
  },
  {
   "cell_type": "code",
   "execution_count": 173,
   "metadata": {
    "collapsed": false
   },
   "outputs": [
    {
     "data": {
      "text/html": [
       "<div>\n",
       "<table border=\"1\" class=\"dataframe\">\n",
       "  <thead>\n",
       "    <tr style=\"text-align: right;\">\n",
       "      <th></th>\n",
       "      <th>std</th>\n",
       "      <th>count</th>\n",
       "      <th>mean</th>\n",
       "    </tr>\n",
       "    <tr>\n",
       "      <th>Condition1</th>\n",
       "      <th></th>\n",
       "      <th></th>\n",
       "      <th></th>\n",
       "    </tr>\n",
       "  </thead>\n",
       "  <tbody>\n",
       "    <tr>\n",
       "      <th>Artery</th>\n",
       "      <td>4686.631946</td>\n",
       "      <td>48</td>\n",
       "      <td>10001.333333</td>\n",
       "    </tr>\n",
       "    <tr>\n",
       "      <th>Feedr</th>\n",
       "      <td>8306.278047</td>\n",
       "      <td>81</td>\n",
       "      <td>10729.604938</td>\n",
       "    </tr>\n",
       "    <tr>\n",
       "      <th>Norm</th>\n",
       "      <td>10410.488749</td>\n",
       "      <td>1260</td>\n",
       "      <td>10417.626984</td>\n",
       "    </tr>\n",
       "    <tr>\n",
       "      <th>PosA</th>\n",
       "      <td>5481.137108</td>\n",
       "      <td>8</td>\n",
       "      <td>16612.375000</td>\n",
       "    </tr>\n",
       "    <tr>\n",
       "      <th>PosN</th>\n",
       "      <td>7388.352049</td>\n",
       "      <td>19</td>\n",
       "      <td>12732.842105</td>\n",
       "    </tr>\n",
       "    <tr>\n",
       "      <th>RRAe</th>\n",
       "      <td>3365.637681</td>\n",
       "      <td>11</td>\n",
       "      <td>11713.727273</td>\n",
       "    </tr>\n",
       "    <tr>\n",
       "      <th>RRAn</th>\n",
       "      <td>4587.704110</td>\n",
       "      <td>26</td>\n",
       "      <td>11982.500000</td>\n",
       "    </tr>\n",
       "    <tr>\n",
       "      <th>RRNe</th>\n",
       "      <td>114.551299</td>\n",
       "      <td>2</td>\n",
       "      <td>9372.000000</td>\n",
       "    </tr>\n",
       "    <tr>\n",
       "      <th>RRNn</th>\n",
       "      <td>2058.391605</td>\n",
       "      <td>5</td>\n",
       "      <td>9046.800000</td>\n",
       "    </tr>\n",
       "  </tbody>\n",
       "</table>\n",
       "</div>"
      ],
      "text/plain": [
       "                     std  count          mean\n",
       "Condition1                                   \n",
       "Artery       4686.631946     48  10001.333333\n",
       "Feedr        8306.278047     81  10729.604938\n",
       "Norm        10410.488749   1260  10417.626984\n",
       "PosA         5481.137108      8  16612.375000\n",
       "PosN         7388.352049     19  12732.842105\n",
       "RRAe         3365.637681     11  11713.727273\n",
       "RRAn         4587.704110     26  11982.500000\n",
       "RRNe          114.551299      2   9372.000000\n",
       "RRNn         2058.391605      5   9046.800000"
      ]
     },
     "execution_count": 173,
     "metadata": {},
     "output_type": "execute_result"
    }
   ],
   "source": [
    "trainset.groupby('Condition1').LotArea.agg(aggvals)"
   ]
  },
  {
   "cell_type": "markdown",
   "metadata": {},
   "source": [
    "It seems the difference is not likely due to lot sizes as shown in the table above. Most conditions have a very similar average lot size. With a few exceptions, mostly in those with positive features. House adjacent to E-W railraod has a much lower average sale price than those adjacent to the N-S railroad. The table below shows the reason could be those adjacent to N-S railroad are mostly 2-STORY 1946 & NEWER, the type with the highest average sale price. This feature may be influenced by MSSubClass a little bit but it contains valuable independent information, like positive features, to be considered in predictive models."
   ]
  },
  {
   "cell_type": "code",
   "execution_count": 176,
   "metadata": {
    "collapsed": false
   },
   "outputs": [
    {
     "data": {
      "text/plain": [
       "Condition1  MSSubClass\n",
       "Artery      20              4\n",
       "            30              5\n",
       "            45              1\n",
       "            50             21\n",
       "            60              1\n",
       "            70              6\n",
       "            75              3\n",
       "            80              1\n",
       "            90              3\n",
       "            190             3\n",
       "Feedr       20             32\n",
       "            30              6\n",
       "            45              1\n",
       "            50             13\n",
       "            60              8\n",
       "            70              4\n",
       "            80              3\n",
       "            85              1\n",
       "            90             10\n",
       "            190             3\n",
       "Norm        20            473\n",
       "            30             57\n",
       "            40              3\n",
       "            45              9\n",
       "            50            108\n",
       "            60            262\n",
       "            70             46\n",
       "            75             12\n",
       "            80             53\n",
       "            85             18\n",
       "            90             36\n",
       "            120            87\n",
       "            160            63\n",
       "            180            10\n",
       "            190            23\n",
       "PosA        20              5\n",
       "            60              3\n",
       "PosN        20              8\n",
       "            60              9\n",
       "            75              1\n",
       "            80              1\n",
       "RRAe        20              6\n",
       "            45              1\n",
       "            60              1\n",
       "            85              1\n",
       "            90              2\n",
       "RRAn        20              6\n",
       "            30              1\n",
       "            40              1\n",
       "            50              2\n",
       "            60             12\n",
       "            70              3\n",
       "            190             1\n",
       "RRNe        60              2\n",
       "RRNn        20              2\n",
       "            60              1\n",
       "            70              1\n",
       "            90              1\n",
       "Name: SalePrice, dtype: int64"
      ]
     },
     "execution_count": 176,
     "metadata": {},
     "output_type": "execute_result"
    }
   ],
   "source": [
    "trainset.groupby(['Condition1', 'MSSubClass']).SalePrice.agg('count')"
   ]
  },
  {
   "cell_type": "code",
   "execution_count": 178,
   "metadata": {
    "collapsed": false
   },
   "outputs": [
    {
     "data": {
      "text/html": [
       "<div>\n",
       "<table border=\"1\" class=\"dataframe\">\n",
       "  <thead>\n",
       "    <tr style=\"text-align: right;\">\n",
       "      <th></th>\n",
       "      <th></th>\n",
       "      <th>std</th>\n",
       "      <th>count</th>\n",
       "      <th>mean</th>\n",
       "    </tr>\n",
       "    <tr>\n",
       "      <th>Condition1</th>\n",
       "      <th>Condition2</th>\n",
       "      <th></th>\n",
       "      <th></th>\n",
       "      <th></th>\n",
       "    </tr>\n",
       "  </thead>\n",
       "  <tbody>\n",
       "    <tr>\n",
       "      <th rowspan=\"3\" valign=\"top\">Artery</th>\n",
       "      <th>Artery</th>\n",
       "      <td>16263.455967</td>\n",
       "      <td>2</td>\n",
       "      <td>106500</td>\n",
       "    </tr>\n",
       "    <tr>\n",
       "      <th>Norm</th>\n",
       "      <td>61751.796032</td>\n",
       "      <td>45</td>\n",
       "      <td>132142</td>\n",
       "    </tr>\n",
       "    <tr>\n",
       "      <th>PosA</th>\n",
       "      <td>NaN</td>\n",
       "      <td>1</td>\n",
       "      <td>325000</td>\n",
       "    </tr>\n",
       "    <tr>\n",
       "      <th rowspan=\"5\" valign=\"top\">Feedr</th>\n",
       "      <th>Feedr</th>\n",
       "      <td>NaN</td>\n",
       "      <td>1</td>\n",
       "      <td>85000</td>\n",
       "    </tr>\n",
       "    <tr>\n",
       "      <th>Norm</th>\n",
       "      <td>41738.486850</td>\n",
       "      <td>76</td>\n",
       "      <td>143883</td>\n",
       "    </tr>\n",
       "    <tr>\n",
       "      <th>RRAe</th>\n",
       "      <td>NaN</td>\n",
       "      <td>1</td>\n",
       "      <td>190000</td>\n",
       "    </tr>\n",
       "    <tr>\n",
       "      <th>RRAn</th>\n",
       "      <td>NaN</td>\n",
       "      <td>1</td>\n",
       "      <td>136905</td>\n",
       "    </tr>\n",
       "    <tr>\n",
       "      <th>RRNn</th>\n",
       "      <td>39951.533137</td>\n",
       "      <td>2</td>\n",
       "      <td>96750</td>\n",
       "    </tr>\n",
       "    <tr>\n",
       "      <th>Norm</th>\n",
       "      <th>Norm</th>\n",
       "      <td>81256.980125</td>\n",
       "      <td>1260</td>\n",
       "      <td>184495</td>\n",
       "    </tr>\n",
       "    <tr>\n",
       "      <th>PosA</th>\n",
       "      <th>Norm</th>\n",
       "      <td>52348.932313</td>\n",
       "      <td>8</td>\n",
       "      <td>225875</td>\n",
       "    </tr>\n",
       "    <tr>\n",
       "      <th rowspan=\"2\" valign=\"top\">PosN</th>\n",
       "      <th>Norm</th>\n",
       "      <td>53470.236361</td>\n",
       "      <td>17</td>\n",
       "      <td>206985</td>\n",
       "    </tr>\n",
       "    <tr>\n",
       "      <th>PosN</th>\n",
       "      <td>141598.132933</td>\n",
       "      <td>2</td>\n",
       "      <td>284875</td>\n",
       "    </tr>\n",
       "    <tr>\n",
       "      <th>RRAe</th>\n",
       "      <th>Norm</th>\n",
       "      <td>24030.813553</td>\n",
       "      <td>11</td>\n",
       "      <td>138400</td>\n",
       "    </tr>\n",
       "    <tr>\n",
       "      <th rowspan=\"2\" valign=\"top\">RRAn</th>\n",
       "      <th>Feedr</th>\n",
       "      <td>36771.818920</td>\n",
       "      <td>4</td>\n",
       "      <td>128500</td>\n",
       "    </tr>\n",
       "    <tr>\n",
       "      <th>Norm</th>\n",
       "      <td>65705.473386</td>\n",
       "      <td>22</td>\n",
       "      <td>194559</td>\n",
       "    </tr>\n",
       "    <tr>\n",
       "      <th>RRNe</th>\n",
       "      <th>Norm</th>\n",
       "      <td>5303.300859</td>\n",
       "      <td>2</td>\n",
       "      <td>190750</td>\n",
       "    </tr>\n",
       "    <tr>\n",
       "      <th rowspan=\"2\" valign=\"top\">RRNn</th>\n",
       "      <th>Feedr</th>\n",
       "      <td>NaN</td>\n",
       "      <td>1</td>\n",
       "      <td>128000</td>\n",
       "    </tr>\n",
       "    <tr>\n",
       "      <th>Norm</th>\n",
       "      <td>93642.938869</td>\n",
       "      <td>4</td>\n",
       "      <td>233500</td>\n",
       "    </tr>\n",
       "  </tbody>\n",
       "</table>\n",
       "</div>"
      ],
      "text/plain": [
       "                                 std  count    mean\n",
       "Condition1 Condition2                              \n",
       "Artery     Artery       16263.455967      2  106500\n",
       "           Norm         61751.796032     45  132142\n",
       "           PosA                  NaN      1  325000\n",
       "Feedr      Feedr                 NaN      1   85000\n",
       "           Norm         41738.486850     76  143883\n",
       "           RRAe                  NaN      1  190000\n",
       "           RRAn                  NaN      1  136905\n",
       "           RRNn         39951.533137      2   96750\n",
       "Norm       Norm         81256.980125   1260  184495\n",
       "PosA       Norm         52348.932313      8  225875\n",
       "PosN       Norm         53470.236361     17  206985\n",
       "           PosN        141598.132933      2  284875\n",
       "RRAe       Norm         24030.813553     11  138400\n",
       "RRAn       Feedr        36771.818920      4  128500\n",
       "           Norm         65705.473386     22  194559\n",
       "RRNe       Norm          5303.300859      2  190750\n",
       "RRNn       Feedr                 NaN      1  128000\n",
       "           Norm         93642.938869      4  233500"
      ]
     },
     "execution_count": 178,
     "metadata": {},
     "output_type": "execute_result"
    }
   ],
   "source": [
    "trainset.groupby(['Condition1', 'Condition2']).SalePrice.agg(aggvals)"
   ]
  },
  {
   "cell_type": "markdown",
   "metadata": {},
   "source": [
    "The table above confirms that some conditions are negative ones (Artery, Feedr, RRAe, RRAn) that reduces sale price, and others are positive features. We would like to use the conditions in predictive models. One way to map them into numerical values is to map Norm to 0, the negative ones as negative numbers depending on their mean sale price difference from the Norm ones, and the positive ones as positive numbers."
   ]
  },
  {
   "cell_type": "code",
   "execution_count": 185,
   "metadata": {
    "collapsed": false
   },
   "outputs": [
    {
     "data": {
      "text/plain": [
       "Condition1\n",
       "Artery   -1.000000\n",
       "Feedr    -0.850538\n",
       "Norm      0.000000\n",
       "PosA      0.837584\n",
       "PosN      0.621185\n",
       "RRAe     -0.933022\n",
       "RRAn     -0.002004\n",
       "RRNe      0.126609\n",
       "RRNn      0.564833\n",
       "Name: SalePrice, dtype: float64"
      ]
     },
     "execution_count": 185,
     "metadata": {},
     "output_type": "execute_result"
    }
   ],
   "source": [
    "a = trainset.groupby('Condition1').SalePrice.agg('mean')\n",
    "a = a - a.loc['Norm']\n",
    "condmap = a / (np.abs(a)).max()\n",
    "condmap"
   ]
  },
  {
   "cell_type": "code",
   "execution_count": null,
   "metadata": {
    "collapsed": true
   },
   "outputs": [],
   "source": []
  }
 ],
 "metadata": {
  "kernelspec": {
   "display_name": "Python 2",
   "language": "python",
   "name": "python2"
  },
  "language_info": {
   "codemirror_mode": {
    "name": "ipython",
    "version": 2
   },
   "file_extension": ".py",
   "mimetype": "text/x-python",
   "name": "python",
   "nbconvert_exporter": "python",
   "pygments_lexer": "ipython2",
   "version": "2.7.13"
  }
 },
 "nbformat": 4,
 "nbformat_minor": 2
}
